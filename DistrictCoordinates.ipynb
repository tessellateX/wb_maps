{
 "cells": [
  {
   "cell_type": "code",
   "execution_count": 6,
   "metadata": {
    "collapsed": true
   },
   "outputs": [],
   "source": [
    "import pandas as pd\n",
    "from geocoder import Geocoder"
   ]
  },
  {
   "cell_type": "markdown",
   "metadata": {},
   "source": [
    "### Drop unessessary cols"
   ]
  },
  {
   "cell_type": "code",
   "execution_count": 7,
   "metadata": {},
   "outputs": [],
   "source": [
    "districts = pd.read_csv('datasets/raw/districts.csv')\n",
    "blocks = pd.read_csv('datasets/raw/blocks.csv')\n",
    "mouzas = pd.read_csv('datasets/raw/mouzas.csv')"
   ]
  },
  {
   "cell_type": "code",
   "execution_count": 8,
   "metadata": {
    "collapsed": true
   },
   "outputs": [],
   "source": [
    "districts[['id', 'name', 'district_code']].to_csv('datasets/processed/districts.csv', index=False)\n",
    "blocks[['id', 'name', 'block_code', 'district_id']].to_csv('datasets/processed/blocks.csv', index=False)\n",
    "mouzas[['id','name', 'jl_number', 'block_id']].to_csv('datasets/processed/mouzas.csv', index=False)"
   ]
  },
  {
   "cell_type": "code",
   "execution_count": 9,
   "metadata": {
    "collapsed": true
   },
   "outputs": [],
   "source": [
    "districts = pd.read_csv('datasets/processed/districts.csv')\n",
    "blocks = pd.read_csv('datasets/processed/blocks.csv')\n",
    "mouzas = pd.read_csv('datasets/processed/mouzas.csv')"
   ]
  },
  {
   "cell_type": "markdown",
   "metadata": {},
   "source": [
    "### Get cordinates of districts"
   ]
  },
  {
   "cell_type": "code",
   "execution_count": 10,
   "metadata": {},
   "outputs": [
    {
     "name": "stdout",
     "output_type": "stream",
     "text": [
      "None\n",
      "Dakshin Dinajpur, West Bengal, India\n",
      "Nadia, West Bengal, India\n",
      "Malda, Māldah, Maldah, West Bengal, 732101, India\n",
      "District Science Center, Purulia, NH314, Puruliya, West Bengal, 723101, India\n",
      "Paschim Medinipur, West Bengal, India\n",
      "Bānkurā, Bankura, West Bengal, India\n",
      "Bagdogra Airport, NH27, Bagdogra, Darjiling, Darjeeling, West Bengal, India\n",
      "Jalpaiguri, West Bengal, 735101, India\n",
      "Alipurduar, Jalpaiguri, West Bengal, 736121, India\n",
      "None\n",
      "Bardhaman, Barddhamān, Barddhaman, West Bengal, 713101, India\n",
      "None\n",
      "Murshidabad, West Bengal, 742149, India\n",
      "Hooghly, Murshidabad, West Bengal, 742212, India\n",
      "Purba Medinipur, West Bengal, India\n",
      "Howrah, Hāora, West Bengal, 711101, India\n",
      "Birbhum, West Bengal, India\n",
      "S, 1st Cross Road, Phoolbagan, EB Block, Bidhannagar, Hāora, West Bengal, 700102, India\n"
     ]
    }
   ],
   "source": [
    "from geopy.geocoders import Nominatim\n",
    "geo = Nominatim(view_box=('21.2585669', '85.8264466', '27.2212039', '89.8775684'))\n",
    "geo \n",
    "dist_coor = {}\n",
    "for dist in districts['name']:\n",
    "    try:\n",
    "        dist_coor[dist] = geo.geocode(query=dist, exactly_one=True, timeout=4, geometry='geojson')\n",
    "        print(dist_coor[dist])\n",
    "    except Exception as e:\n",
    "        print(e)"
   ]
  },
  {
   "cell_type": "code",
   "execution_count": 11,
   "metadata": {
    "collapsed": true
   },
   "outputs": [],
   "source": [
    "# Addings cols to df\n",
    "districts['latitude'] = pd.Series(0.0, index=districts.index)\n",
    "districts['longitude'] = pd.Series(0.0, index=districts.index)\n"
   ]
  },
  {
   "cell_type": "code",
   "execution_count": 12,
   "metadata": {},
   "outputs": [
    {
     "name": "stdout",
     "output_type": "stream",
     "text": [
      "25.34562175 88.6365365627861\n",
      "23.25 88.5\n",
      "25.0057449 88.1398483\n",
      "23.3409582 86.359433\n",
      "22.3599134 87.2433317191606\n",
      "23.25 87.25\n",
      "26.6821128 88.3290687059284\n",
      "26.5242986 88.7200216\n",
      "26.4851573 89.5246926\n",
      "23.244051 87.8689422\n",
      "24.1745993 88.2721335\n",
      "24.6424404 87.9279991\n",
      "21.91675335 87.742317905083\n",
      "22.5882216 88.323139\n",
      "24.062774 87.6908189320474\n",
      "22.58364745 88.4041730052545\n"
     ]
    }
   ],
   "source": [
    "for index, row in districts.iterrows():\n",
    "    name = row['name']\n",
    "    detail = dist_coor[name]\n",
    "    if detail:\n",
    "        print(detail.latitude, detail.longitude)\n",
    "        districts.set_value(index, 'latitude', dist_coor[name].latitude)\n",
    "        districts.set_value(index, 'longitude', dist_coor[name].longitude)"
   ]
  },
  {
   "cell_type": "code",
   "execution_count": 13,
   "metadata": {},
   "outputs": [
    {
     "data": {
      "text/html": [
       "<div>\n",
       "<style>\n",
       "    .dataframe thead tr:only-child th {\n",
       "        text-align: right;\n",
       "    }\n",
       "\n",
       "    .dataframe thead th {\n",
       "        text-align: left;\n",
       "    }\n",
       "\n",
       "    .dataframe tbody tr th {\n",
       "        vertical-align: top;\n",
       "    }\n",
       "</style>\n",
       "<table border=\"1\" class=\"dataframe\">\n",
       "  <thead>\n",
       "    <tr style=\"text-align: right;\">\n",
       "      <th></th>\n",
       "      <th>id</th>\n",
       "      <th>name</th>\n",
       "      <th>district_code</th>\n",
       "      <th>latitude</th>\n",
       "      <th>longitude</th>\n",
       "    </tr>\n",
       "  </thead>\n",
       "  <tbody>\n",
       "    <tr>\n",
       "      <th>0</th>\n",
       "      <td>16</td>\n",
       "      <td>North 24 Parganas</td>\n",
       "      <td>15</td>\n",
       "      <td>0.000000</td>\n",
       "      <td>0.000000</td>\n",
       "    </tr>\n",
       "    <tr>\n",
       "      <th>1</th>\n",
       "      <td>18</td>\n",
       "      <td>Dakshin Dinajpur</td>\n",
       "      <td>17</td>\n",
       "      <td>25.345622</td>\n",
       "      <td>88.636537</td>\n",
       "    </tr>\n",
       "    <tr>\n",
       "      <th>2</th>\n",
       "      <td>14</td>\n",
       "      <td>Nadia</td>\n",
       "      <td>13</td>\n",
       "      <td>23.250000</td>\n",
       "      <td>88.500000</td>\n",
       "    </tr>\n",
       "    <tr>\n",
       "      <th>3</th>\n",
       "      <td>10</td>\n",
       "      <td>Malda</td>\n",
       "      <td>9</td>\n",
       "      <td>25.005745</td>\n",
       "      <td>88.139848</td>\n",
       "    </tr>\n",
       "    <tr>\n",
       "      <th>4</th>\n",
       "      <td>15</td>\n",
       "      <td>Purulia</td>\n",
       "      <td>14</td>\n",
       "      <td>23.340958</td>\n",
       "      <td>86.359433</td>\n",
       "    </tr>\n",
       "    <tr>\n",
       "      <th>5</th>\n",
       "      <td>11</td>\n",
       "      <td>Paschim Medinipur</td>\n",
       "      <td>10</td>\n",
       "      <td>22.359913</td>\n",
       "      <td>87.243332</td>\n",
       "    </tr>\n",
       "    <tr>\n",
       "      <th>6</th>\n",
       "      <td>1</td>\n",
       "      <td>Bankura</td>\n",
       "      <td>1</td>\n",
       "      <td>23.250000</td>\n",
       "      <td>87.250000</td>\n",
       "    </tr>\n",
       "    <tr>\n",
       "      <th>7</th>\n",
       "      <td>4</td>\n",
       "      <td>Darjeeling</td>\n",
       "      <td>4</td>\n",
       "      <td>26.682113</td>\n",
       "      <td>88.329069</td>\n",
       "    </tr>\n",
       "    <tr>\n",
       "      <th>8</th>\n",
       "      <td>7</td>\n",
       "      <td>Jalpaiguri</td>\n",
       "      <td>7</td>\n",
       "      <td>26.524299</td>\n",
       "      <td>88.720022</td>\n",
       "    </tr>\n",
       "    <tr>\n",
       "      <th>9</th>\n",
       "      <td>8</td>\n",
       "      <td>ALIPURDUAR</td>\n",
       "      <td>19</td>\n",
       "      <td>26.485157</td>\n",
       "      <td>89.524693</td>\n",
       "    </tr>\n",
       "    <tr>\n",
       "      <th>10</th>\n",
       "      <td>9</td>\n",
       "      <td>Koochbihar</td>\n",
       "      <td>8</td>\n",
       "      <td>0.000000</td>\n",
       "      <td>0.000000</td>\n",
       "    </tr>\n",
       "    <tr>\n",
       "      <th>11</th>\n",
       "      <td>2</td>\n",
       "      <td>Bardhaman</td>\n",
       "      <td>2</td>\n",
       "      <td>23.244051</td>\n",
       "      <td>87.868942</td>\n",
       "    </tr>\n",
       "    <tr>\n",
       "      <th>12</th>\n",
       "      <td>19</td>\n",
       "      <td>Uttar Dinajpur</td>\n",
       "      <td>18</td>\n",
       "      <td>0.000000</td>\n",
       "      <td>0.000000</td>\n",
       "    </tr>\n",
       "    <tr>\n",
       "      <th>13</th>\n",
       "      <td>13</td>\n",
       "      <td>Murshidabad</td>\n",
       "      <td>12</td>\n",
       "      <td>24.174599</td>\n",
       "      <td>88.272133</td>\n",
       "    </tr>\n",
       "    <tr>\n",
       "      <th>14</th>\n",
       "      <td>6</td>\n",
       "      <td>Hooghly</td>\n",
       "      <td>6</td>\n",
       "      <td>24.642440</td>\n",
       "      <td>87.927999</td>\n",
       "    </tr>\n",
       "    <tr>\n",
       "      <th>15</th>\n",
       "      <td>12</td>\n",
       "      <td>Purba Medinipur</td>\n",
       "      <td>11</td>\n",
       "      <td>21.916753</td>\n",
       "      <td>87.742318</td>\n",
       "    </tr>\n",
       "    <tr>\n",
       "      <th>16</th>\n",
       "      <td>5</td>\n",
       "      <td>Howrah</td>\n",
       "      <td>5</td>\n",
       "      <td>22.588222</td>\n",
       "      <td>88.323139</td>\n",
       "    </tr>\n",
       "    <tr>\n",
       "      <th>17</th>\n",
       "      <td>3</td>\n",
       "      <td>Birbhum</td>\n",
       "      <td>3</td>\n",
       "      <td>24.062774</td>\n",
       "      <td>87.690819</td>\n",
       "    </tr>\n",
       "    <tr>\n",
       "      <th>18</th>\n",
       "      <td>17</td>\n",
       "      <td>South 24 Parganas</td>\n",
       "      <td>16</td>\n",
       "      <td>22.583647</td>\n",
       "      <td>88.404173</td>\n",
       "    </tr>\n",
       "  </tbody>\n",
       "</table>\n",
       "</div>"
      ],
      "text/plain": [
       "    id               name  district_code   latitude  longitude\n",
       "0   16  North 24 Parganas             15   0.000000   0.000000\n",
       "1   18   Dakshin Dinajpur             17  25.345622  88.636537\n",
       "2   14              Nadia             13  23.250000  88.500000\n",
       "3   10              Malda              9  25.005745  88.139848\n",
       "4   15            Purulia             14  23.340958  86.359433\n",
       "5   11  Paschim Medinipur             10  22.359913  87.243332\n",
       "6    1            Bankura              1  23.250000  87.250000\n",
       "7    4         Darjeeling              4  26.682113  88.329069\n",
       "8    7         Jalpaiguri              7  26.524299  88.720022\n",
       "9    8         ALIPURDUAR             19  26.485157  89.524693\n",
       "10   9         Koochbihar              8   0.000000   0.000000\n",
       "11   2          Bardhaman              2  23.244051  87.868942\n",
       "12  19     Uttar Dinajpur             18   0.000000   0.000000\n",
       "13  13        Murshidabad             12  24.174599  88.272133\n",
       "14   6            Hooghly              6  24.642440  87.927999\n",
       "15  12    Purba Medinipur             11  21.916753  87.742318\n",
       "16   5             Howrah              5  22.588222  88.323139\n",
       "17   3            Birbhum              3  24.062774  87.690819\n",
       "18  17  South 24 Parganas             16  22.583647  88.404173"
      ]
     },
     "execution_count": 13,
     "metadata": {},
     "output_type": "execute_result"
    }
   ],
   "source": [
    "districts"
   ]
  },
  {
   "cell_type": "code",
   "execution_count": 14,
   "metadata": {
    "collapsed": true
   },
   "outputs": [],
   "source": [
    "districts.to_csv('datasets/processed/districts.csv')"
   ]
  },
  {
   "cell_type": "code",
   "execution_count": null,
   "metadata": {
    "collapsed": true
   },
   "outputs": [],
   "source": []
  }
 ],
 "metadata": {
  "kernelspec": {
   "display_name": "Python 3",
   "language": "python",
   "name": "python3"
  },
  "language_info": {
   "codemirror_mode": {
    "name": "ipython",
    "version": 3
   },
   "file_extension": ".py",
   "mimetype": "text/x-python",
   "name": "python",
   "nbconvert_exporter": "python",
   "pygments_lexer": "ipython3",
   "version": "3.5.2"
  }
 },
 "nbformat": 4,
 "nbformat_minor": 2
}
